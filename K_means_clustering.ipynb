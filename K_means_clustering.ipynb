{
  "nbformat": 4,
  "nbformat_minor": 0,
  "metadata": {
    "kernelspec": {
      "display_name": "Python 3",
      "language": "python",
      "name": "python3"
    },
    "language_info": {
      "codemirror_mode": {
        "name": "ipython",
        "version": 3
      },
      "file_extension": ".py",
      "mimetype": "text/x-python",
      "name": "python",
      "nbconvert_exporter": "python",
      "pygments_lexer": "ipython3",
      "version": "3.6.6"
    },
    "colab": {
      "name": "K_means_clustering.ipynb",
      "provenance": [],
      "collapsed_sections": [],
      "include_colab_link": true
    }
  },
  "cells": [
    {
      "cell_type": "markdown",
      "metadata": {
        "id": "view-in-github",
        "colab_type": "text"
      },
      "source": [
        "<a href=\"https://colab.research.google.com/github/futartup/S12-assignment/blob/master/K_means_clustering.ipynb\" target=\"_parent\"><img src=\"https://colab.research.google.com/assets/colab-badge.svg\" alt=\"Open In Colab\"/></a>"
      ]
    },
    {
      "cell_type": "markdown",
      "metadata": {
        "id": "Ip9jksONLx-p",
        "colab_type": "text"
      },
      "source": [
        "# Mount the drive"
      ]
    },
    {
      "cell_type": "code",
      "metadata": {
        "id": "tAwzpmAbDJWJ",
        "colab_type": "code",
        "outputId": "964e0a8b-f0fc-4207-fb9a-ae9061c5a1f5",
        "colab": {
          "base_uri": "https://localhost:8080/",
          "height": 122
        }
      },
      "source": [
        "from google.colab import drive\n",
        "drive.mount('/content/drive', force_remount=True)"
      ],
      "execution_count": 1,
      "outputs": [
        {
          "output_type": "stream",
          "text": [
            "Go to this URL in a browser: https://accounts.google.com/o/oauth2/auth?client_id=947318989803-6bn6qk8qdgf4n4g3pfee6491hc0brc4i.apps.googleusercontent.com&redirect_uri=urn%3aietf%3awg%3aoauth%3a2.0%3aoob&response_type=code&scope=email%20https%3a%2f%2fwww.googleapis.com%2fauth%2fdocs.test%20https%3a%2f%2fwww.googleapis.com%2fauth%2fdrive%20https%3a%2f%2fwww.googleapis.com%2fauth%2fdrive.photos.readonly%20https%3a%2f%2fwww.googleapis.com%2fauth%2fpeopleapi.readonly\n",
            "\n",
            "Enter your authorization code:\n",
            "··········\n",
            "Mounted at /content/drive\n"
          ],
          "name": "stdout"
        }
      ]
    },
    {
      "cell_type": "markdown",
      "metadata": {
        "id": "HFtc56IpDNYM",
        "colab_type": "text"
      },
      "source": [
        "# Add the current path"
      ]
    },
    {
      "cell_type": "code",
      "metadata": {
        "id": "Fm9VmC0DDQDl",
        "colab_type": "code",
        "colab": {}
      },
      "source": [
        "import os, sys\n",
        "path_current = '/content/drive/My Drive/Colab Notebooks/S11'\n",
        "if path_current not in sys.path:\n",
        "  sys.path.append(path_current)"
      ],
      "execution_count": 0,
      "outputs": []
    },
    {
      "cell_type": "markdown",
      "metadata": {
        "id": "73PVNIR4DBtW",
        "colab_type": "text"
      },
      "source": [
        "# Import Libraries"
      ]
    },
    {
      "cell_type": "code",
      "metadata": {
        "id": "nm3PhazcL1MI",
        "colab_type": "code",
        "colab": {}
      },
      "source": [
        "import os, json\n",
        "import numpy as np\n",
        "import pandas as pd\n",
        "from matplotlib import pyplot as plt\n",
        "from sklearn.cluster import KMeans\n",
        "from tabulate import tabulate"
      ],
      "execution_count": 0,
      "outputs": []
    },
    {
      "cell_type": "markdown",
      "metadata": {
        "id": "GuPTWCSgCyhF",
        "colab_type": "text"
      },
      "source": [
        "# Read the files and get the size of each images"
      ]
    },
    {
      "cell_type": "code",
      "metadata": {
        "id": "9OzpBLytC3Ax",
        "colab_type": "code",
        "outputId": "84a0e20e-68f7-4bd4-f3fe-5f3676d910df",
        "colab": {
          "base_uri": "https://localhost:8080/",
          "height": 54
        }
      },
      "source": [
        "from PIL import Image \n",
        "\n",
        "size_images = {}\n",
        "for dirpath, _, filenames in os.walk(\"/content/drive/My Drive/Colab Notebooks/S11/Data/Dog_images/\"):\n",
        "    for path_image in filenames:\n",
        "        image = os.path.abspath(os.path.join(dirpath, path_image))\n",
        "        with Image.open(image) as img:\n",
        "            width, heigth = img.size\n",
        "            size_images[path_image] = {'width': width, 'heigth': heigth}\n",
        "\n",
        "print(size_images)"
      ],
      "execution_count": 4,
      "outputs": [
        {
          "output_type": "stream",
          "text": [
            "{'img_dog_.jpeg': {'width': 284, 'heigth': 177}, ' .jpg': {'width': 4752, 'heigth': 4752}, 'dog_2.jpg': {'width': 4272, 'heigth': 2848}, 'dog_3.jpg': {'width': 2755, 'heigth': 3665}, 'dog_4.jpg': {'width': 2034, 'heigth': 3615}, 'dog_5.jpg': {'width': 3000, 'heigth': 2000}, 'dog_6.jpg': {'width': 3024, 'heigth': 3738}, 'dog_7.jpg': {'width': 3628, 'heigth': 5474}, 'dog_8.jpg': {'width': 3024, 'heigth': 4032}, 'dog_9.jpg': {'width': 5616, 'heigth': 3744}, 'dog_10.jpg': {'width': 6016, 'heigth': 4016}, 'dog_11.jpg': {'width': 3774, 'heigth': 4717}, 'dog_12.jpg': {'width': 4000, 'heigth': 6000}, 'dog_13.jpg': {'width': 5184, 'heigth': 3456}, 'dog_14.jpg': {'width': 3917, 'heigth': 5867}, 'dog_15.jpg': {'width': 5472, 'heigth': 3648}, 'dog_16.jpg': {'width': 5184, 'heigth': 3456}, 'dog_17.jpg': {'width': 5184, 'heigth': 3456}, 'dog_18.jpg': {'width': 3814, 'heigth': 5722}, 'dog_19.jpg': {'width': 3385, 'heigth': 5078}, 'dog_20.jpg': {'width': 6124, 'heigth': 4082}, 'dog_22.jpg': {'width': 600, 'heigth': 408}, 'dog_23.jpeg': {'width': 353, 'heigth': 143}, 'dog_24.jpeg': {'width': 310, 'heigth': 163}, 'dog_25.jpeg': {'width': 275, 'heigth': 183}, 'dog_26.jpeg': {'width': 349, 'heigth': 144}, 'dog_27.jpeg': {'width': 300, 'heigth': 168}, 'dog_28.jpeg': {'width': 275, 'heigth': 183}, 'dog_29.jpeg': {'width': 183, 'heigth': 275}, 'dog_30.jpeg': {'width': 259, 'heigth': 194}, 'dog_31.jpeg': {'width': 225, 'heigth': 225}, 'dog_32.jpeg': {'width': 247, 'heigth': 204}, 'dog_33.jpeg': {'width': 290, 'heigth': 174}, 'd0g_34.jpeg': {'width': 300, 'heigth': 168}, 'dog_35.jpeg': {'width': 259, 'heigth': 194}, 'dog_36.jpeg': {'width': 300, 'heigth': 168}, 'dog_37.jpeg': {'width': 300, 'heigth': 168}, 'dog_38.jpeg': {'width': 300, 'heigth': 168}, 'dog_39.jpeg': {'width': 275, 'heigth': 183}, 'dog_40.jpeg': {'width': 300, 'heigth': 168}, 'dog_41.jpeg': {'width': 268, 'heigth': 188}, 'dog_42.jpeg': {'width': 322, 'heigth': 156}, 'dog_43.jpeg': {'width': 275, 'heigth': 183}, 'dog_44.jpeg': {'width': 259, 'heigth': 195}, 'dog_45.jpeg': {'width': 300, 'heigth': 168}, 'dog_46.jpeg': {'width': 275, 'heigth': 183}, 'dog_47.jpeg': {'width': 299, 'heigth': 168}, 'dog_48.jpeg': {'width': 275, 'heigth': 183}, 'dog_49.jpeg': {'width': 300, 'heigth': 168}, 'dog_50.jpeg': {'width': 299, 'heigth': 168}}\n"
          ],
          "name": "stdout"
        }
      ]
    },
    {
      "cell_type": "markdown",
      "metadata": {
        "id": "f3u5FDWgGHZ3",
        "colab_type": "text"
      },
      "source": [
        "# Read the annotated file"
      ]
    },
    {
      "cell_type": "code",
      "metadata": {
        "id": "9m_VbG6PGLIB",
        "colab_type": "code",
        "colab": {}
      },
      "source": [
        "with open(\"/content/drive/My Drive/Colab Notebooks/S11/Data/s11_dog_dataset_50.json\") as fp:\n",
        "  file_content = json.load(fp)"
      ],
      "execution_count": 0,
      "outputs": []
    },
    {
      "cell_type": "markdown",
      "metadata": {
        "id": "Lng_H7ZUq6XC",
        "colab_type": "text"
      },
      "source": [
        "# Load the JSON file"
      ]
    },
    {
      "cell_type": "code",
      "metadata": {
        "id": "llao3Rtbq9LC",
        "colab_type": "code",
        "colab": {}
      },
      "source": [
        "def make_clusters(size_images, file_content):\n",
        "    xx = []\n",
        "    yy = []\n",
        "    ZZ = []\n",
        "    CC = []\n",
        "    for k, v in file_content.items():\n",
        "        if 'regions' in v:\n",
        "          region = v['regions']\n",
        "\n",
        "          # Bounding box attributes\n",
        "          w = region[0]['shape_attributes']['width']\n",
        "          h = region[0]['shape_attributes']['height']\n",
        "          x = region[0]['shape_attributes']['x']\n",
        "          y = region[0]['shape_attributes']['y']\n",
        "\n",
        "          # Image height and width\n",
        "          image_width = size_images[v['filename']]['width']\n",
        "          image_height = size_images[v['filename']]['heigth']\n",
        "\n",
        "          # Normalized bounding boxes\n",
        "          n_width = w / image_width\n",
        "          n_height = h / image_height\n",
        "\n",
        "          # Normalized centers\n",
        "          n_x = x / image_width\n",
        "          n_y = y / image_height\n",
        "\n",
        "          xx.append(n_width)\n",
        "          yy.append(n_height)\n",
        "          ZZ.append([n_width,n_height])\n",
        "          CC.append([n_x,n_y])\n",
        "\n",
        "    # Determine the best cluster number using elbow method\n",
        "    wcss = []\n",
        "    for i in range(1, 11):\n",
        "        kmeans = KMeans(n_clusters=i, init='k-means++', max_iter=300, n_init=10, random_state=0)\n",
        "        kmeans.fit(ZZ)\n",
        "        wcss.append(kmeans.inertia_)\n",
        "    plt.plot(range(1, 11), wcss)\n",
        "    plt.title('Elbow Method')\n",
        "    plt.xlabel('Number of clusters')\n",
        "    plt.ylabel('WCSS')\n",
        "    plt.show()\n",
        "\n",
        "    # Determine the clusters\n",
        "    cluster_num = 4\n",
        "    kmeans = KMeans(n_clusters=cluster_num, init='k-means++', max_iter=300, n_init=10, random_state=0)\n",
        "    pred_y = kmeans.fit_predict(ZZ)\n",
        "    plt.scatter(kmeans.cluster_centers_[:, 0], kmeans.cluster_centers_[:, 1], s=300, c='red')\n",
        "    plt.xlabel('Scatter plot for {0} clusters'.format(cluster_num))\n",
        "    plt.show()\n",
        "\n",
        "\n",
        "    \n",
        "\n",
        "\n",
        "    # Plot the bounding boxes\n",
        "    for pos, val in enumerate(ZZ):\n",
        "      x = CC[pos][0]\n",
        "      y = CC[pos][1]\n",
        "      new_x = x - (val[0]/2)\n",
        "      new_x = y - (val[1]/2)\n",
        "      rectangle = plt.Rectangle((new_x,new_x), val[0], val[1], fc='white', ec=\"red\", alpha=0.8)\n",
        "      plt.gca().add_patch(rectangle)\n",
        "      plt.axis('scaled')  \n",
        "    plt.xlabel('All The Normalized Bounding Boxes')\n",
        "    plt.show()\n",
        "\n",
        "    # Calculate the IOU and templates\n",
        "    templates_dict = {}\n",
        "    for pos, val in enumerate(kmeans.cluster_centers_):\n",
        "      templates_dict[pos] = val\n",
        "\n",
        "    for pos, val in enumerate(ZZ):\n",
        "      # calculate the IOU\n",
        "      values = templates_dict[pred_y[pos]]\n",
        "      x_t = values[0]\n",
        "      y_t = values[1]\n",
        "\n",
        "      x = ZZ[pos][0]\n",
        "      y = ZZ[pos][1]\n",
        "\n",
        "      if x_t < x and y_t < y:\n",
        "        iou = x*y / x_t * y_t\n",
        "      elif y_t < y:\n",
        "        iou = y_t * x / 2*(y_t * (x_t - x)/2) + 2 * ((y_t-y/2) * x)\n",
        "      else:\n",
        "        iou = x * y_t / 2*(y_t * (x_t - x)/2) + 2 * ((y_t-y/2) * x)\n",
        "      ZZ[pos].append(pred_y[pos])\n",
        "      ZZ[pos].append(iou)\n",
        "    # Print the cluster centers\n",
        "    print(\"\\n\")\n",
        "    print(\"The templates predicted for each normalized bounding boxes and IOU \\n\")\n",
        "    print(tabulate(ZZ, headers=['x', 'y', 'Template', 'IOU'], tablefmt='orgtbl'))\n",
        "\n",
        "    "
      ],
      "execution_count": 0,
      "outputs": []
    },
    {
      "cell_type": "markdown",
      "metadata": {
        "id": "nKHCz68WF_Ov",
        "colab_type": "text"
      },
      "source": [
        "# Call the function"
      ]
    },
    {
      "cell_type": "code",
      "metadata": {
        "id": "YDdYyer6GB8j",
        "colab_type": "code",
        "outputId": "bf8c4ac0-9c6f-4181-e1d2-f33e27aeea83",
        "colab": {
          "base_uri": "https://localhost:8080/",
          "height": 1000
        }
      },
      "source": [
        "make_clusters(size_images, file_content)"
      ],
      "execution_count": 92,
      "outputs": [
        {
          "output_type": "display_data",
          "data": {
            "image/png": "[encoded data removed]",
            "text/plain": [
              "<Figure size 432x288 with 1 Axes>"
            ]
          },
          "metadata": {
            "tags": [],
            "needs_background": "light"
          }
        },
        {
          "output_type": "display_data",
          "data": {
            "image/png": "[encoded data removed]",
            "text/plain": [
              "<Figure size 432x288 with 1 Axes>"
            ]
          },
          "metadata": {
            "tags": [],
            "needs_background": "light"
          }
        },
        {
          "output_type": "display_data",
          "data": {
            "image/png": "[encoded data removed]",
            "text/plain": [
              "<Figure size 432x288 with 1 Axes>"
            ]
          },
          "metadata": {
            "tags": [],
            "needs_background": "light"
          }
        },
        {
          "output_type": "stream",
          "text": [
            "\n",
            "\n",
            "The templates predicted for each normalized bounding boxes and IOU \n",
            "\n",
            "|        x |        y |   Template |      IOU |\n",
            "|----------+----------+------------+----------|\n",
            "| 0.839436 | 0.377736 |          0 | 0.640017 |\n",
            "| 0.383333 | 0.666667 |          2 | 0.361778 |\n",
            "| 0.47823  | 0.418188 |          2 | 0.305487 |\n",
            "| 0.690381 | 0.488404 |          0 | 0.458363 |\n",
            "| 0.66175  | 0.635131 |          0 | 0.343802 |\n",
            "| 0.329333 | 0.488    |          2 | 0.190853 |\n",
            "| 0.87963  | 0.61771  |          0 | 0.382174 |\n",
            "| 0.925028 | 0.61308  |          0 | 0.398886 |\n",
            "| 0.782738 | 0.659474 |          0 | 0.379881 |\n",
            "| 0.391204 | 0.533387 |          2 | 0.295394 |\n",
            "| 0.274767 | 0.634462 |          2 | 0.12005  |\n",
            "| 0.414414 | 0.412974 |          2 | 0.268755 |\n",
            "| 0.9235   | 0.804833 |          1 | 0.849566 |\n",
            "| 0.320602 | 0.514178 |          2 | 0.177599 |\n",
            "| 0.847332 | 0.935742 |          1 | 0.827219 |\n",
            "| 0.885234 | 0.86568  |          1 | 0.766922 |\n",
            "| 0.871721 | 0.608218 |          0 | 0.372918 |\n",
            "| 0.711034 | 0.938368 |          1 | 0.587801 |\n",
            "| 0.923702 | 0.658686 |          0 | 0.427944 |\n",
            "| 0.454948 | 0.224104 |          2 | 0.379663 |\n",
            "| 0.371326 | 0.61661  |          2 | 0.166329 |\n",
            "| 0.558333 | 0.887255 |          3 | 0.783994 |\n",
            "| 0.651558 | 0.916084 |          3 | 0.944624 |\n",
            "| 0.464516 | 0.871166 |          3 | 0.385434 |\n",
            "| 0.810909 | 0.748634 |          1 | 0.80887  |\n",
            "| 0.52149  | 0.930556 |          3 | 0.396442 |\n",
            "| 0.86     | 0.559524 |          0 | 0.497916 |\n",
            "| 0.789091 | 0.857923 |          1 | 0.704131 |\n",
            "| 0.404372 | 0.738182 |          3 | 0.393638 |\n",
            "| 0.907336 | 0.92268  |          1 | 0.873434 |\n",
            "| 0.32     | 0.733333 |          2 | 0.107149 |\n",
            "| 0.445344 | 0.622549 |          2 | 0.392488 |\n",
            "| 0.603448 | 0.741379 |          3 | 0.564092 |\n",
            "| 0.602317 | 0.871134 |          3 | 0.830387 |\n",
            "| 0.94     | 0.904762 |          1 | 0.887305 |\n",
            "| 0.943333 | 0.928571 |          1 | 0.913884 |\n",
            "| 0.576667 | 0.744048 |          3 | 0.540271 |\n",
            "| 0.636364 | 0.967213 |          3 | 0.974088 |\n",
            "| 0.383333 | 0.791667 |          3 | 0.354093 |\n",
            "| 0.712687 | 0.840426 |          1 | 0.658747 |\n",
            "| 0.636646 | 0.826923 |          3 | 0.536897 |\n",
            "| 0.792727 | 0.896175 |          1 | 0.676507 |\n",
            "| 0.362934 | 0.846154 |          3 | 0.316795 |\n",
            "| 0.686667 | 0.494048 |          0 | 0.452229 |\n",
            "| 0.898182 | 0.781421 |          1 | 0.851615 |\n",
            "| 0.77592  | 0.863095 |          1 | 0.690303 |\n",
            "| 0.290909 | 0.437158 |          2 | 0.184168 |\n",
            "| 0.78     | 0.922619 |          1 | 0.646901 |\n",
            "| 0.802676 | 0.85119  |          1 | 0.719591 |\n",
            "| 0.411972 | 0.615819 |          2 | 0.359152 |\n"
          ],
          "name": "stdout"
        }
      ]
    }
  ]
}