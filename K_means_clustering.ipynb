{
  "nbformat": 4,
  "nbformat_minor": 0,
  "metadata": {
    "kernelspec": {
      "display_name": "Python 3",
      "language": "python",
      "name": "python3"
    },
    "language_info": {
      "codemirror_mode": {
        "name": "ipython",
        "version": 3
      },
      "file_extension": ".py",
      "mimetype": "text/x-python",
      "name": "python",
      "nbconvert_exporter": "python",
      "pygments_lexer": "ipython3",
      "version": "3.6.6"
    },
    "colab": {
      "name": "K_means_clustering.ipynb",
      "provenance": [],
      "collapsed_sections": [],
      "include_colab_link": true
    }
  },
  "cells": [
    {
      "cell_type": "markdown",
      "metadata": {
        "id": "view-in-github",
        "colab_type": "text"
      },
      "source": [
        "<a href=\"https://colab.research.google.com/github/futartup/S12-assignment/blob/master/K_means_clustering.ipynb\" target=\"_parent\"><img src=\"https://colab.research.google.com/assets/colab-badge.svg\" alt=\"Open In Colab\"/></a>"
      ]
    },
    {
      "cell_type": "markdown",
      "metadata": {
        "id": "Ip9jksONLx-p",
        "colab_type": "text"
      },
      "source": [
        "# K Means Clustering"
      ]
    },
    {
      "cell_type": "code",
      "metadata": {
        "id": "nm3PhazcL1MI",
        "colab_type": "code",
        "colab": {}
      },
      "source": [
        "import os, json\n",
        "import numpy as np\n",
        "import pandas as pd\n",
        "from matplotlib import pyplot as plt\n",
        "from sklearn.datasets.samples_generator import make_blobs\n",
        "from sklearn.cluster import KMeans\n",
        "import torch.nn.functional as F"
      ],
      "execution_count": 0,
      "outputs": []
    },
    {
      "cell_type": "markdown",
      "metadata": {
        "id": "Lng_H7ZUq6XC",
        "colab_type": "text"
      },
      "source": [
        "# Load the JSON file"
      ]
    },
    {
      "cell_type": "code",
      "metadata": {
        "id": "llao3Rtbq9LC",
        "colab_type": "code",
        "colab": {}
      },
      "source": [
        "def make_clusters(file_content):\n",
        "    width = []\n",
        "    height = []\n",
        "    xx = []\n",
        "    yy = []\n",
        "  \n",
        "    for k, v in file_content.items():\n",
        "        if 'regions' in v:\n",
        "          region = v['regions']\n",
        "          w = region[0]['shape_attributes']['width']\n",
        "          h = region[0]['shape_attributes']['height']\n",
        "          x = region[0]['shape_attributes']['x']\n",
        "          y = region[0]['shape_attributes']['y']\n",
        "          width.append(w)\n",
        "          height.append(h)\n",
        "          xx.append(x)\n",
        "          yy.append(y)\n",
        "    XX = []\n",
        "    YY = []\n",
        "    ZZ = []\n",
        "    for pos, val in enumerate(width):\n",
        "      l_new_x = width[pos]/ np.sum(width)\n",
        "      l_new_y = height[pos]/ np.sum(height)\n",
        "      XX.append(l_new_x)\n",
        "      YY.append(l_new_y)\n",
        "      ZZ.append([l_new_x,l_new_y ])\n",
        "    # visualize the data\n",
        "    #plt.scatter(xx, yy, label='True Position')\n",
        "    #plt.scatter(XX, YY, label='True Position')\n",
        "\n",
        "    wcss = []\n",
        "    for i in range(1, 11):\n",
        "        kmeans = KMeans(n_clusters=i, init='k-means++', max_iter=300, n_init=10, random_state=0)\n",
        "        kmeans.fit(ZZ)\n",
        "        wcss.append(kmeans.inertia_)\n",
        "    plt.plot(range(1, 11), wcss)\n",
        "    plt.title('Elbow Method')\n",
        "    plt.xlabel('Number of clusters')\n",
        "    plt.ylabel('WCSS')\n",
        "    plt.show()\n",
        "\n",
        "    kmeans = KMeans(n_clusters=4, init='k-means++', max_iter=300, n_init=10, random_state=0)\n",
        "    pred_y = kmeans.fit_predict(ZZ)\n",
        "    plt.scatter(XX, YY)\n",
        "    plt.scatter(kmeans.cluster_centers_[:, 0], kmeans.cluster_centers_[:, 1], s=300, c='red')\n",
        "    plt.show()\n"
      ],
      "execution_count": 0,
      "outputs": []
    }
  ]
}